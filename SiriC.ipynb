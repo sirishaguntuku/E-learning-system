{
 "cells": [
  {
   "cell_type": "code",
   "execution_count": 4,
   "id": "d4c747ca",
   "metadata": {},
   "outputs": [],
   "source": [
    "from flask import Flask, jsonify, request\n",
    "import threading\n",
    "import requests\n",
    "import time\n",
    "from datetime import datetime\n",
    "from pyspark.sql import SparkSession\n",
    "import random\n",
    "import pymongo\n",
    "from pymongo import ReturnDocument\n",
    "from pymongo import MongoClient\n",
    "import os"
   ]
  },
  {
   "cell_type": "code",
   "execution_count": 5,
   "id": "314d8c49",
   "metadata": {},
   "outputs": [],
   "source": [
    "app = Flask(__name__)"
   ]
  },
  {
   "cell_type": "code",
   "execution_count": 6,
   "id": "3c266c4f",
   "metadata": {},
   "outputs": [
    {
     "name": "stdout",
     "output_type": "stream",
     "text": [
      "CSV files loaded into MongoDB successfully!\n"
     ]
    }
   ],
   "source": [
    "import pandas as pd\n",
    "from pymongo import MongoClient\n",
    "\n",
    "# MongoDB connection\n",
    "client = MongoClient('mongodb://localhost:27017')\n",
    "db = client['elearning_platform']\n",
    "\n",
    "# Create collections for each dataset\n",
    "user_collection = db['users']\n",
    "course_collection = db['courses']\n",
    "enrollment_collection = db['enrollments']\n",
    "interaction_collection = db['interactions']\n",
    "active_log_collection = db['active_logs']\n",
    "\n",
    "# Load CSV files using pandas\n",
    "users_df = pd.read_csv(\"users (1).csv\")  # Users Data\n",
    "courses_df = pd.read_csv(\"courses_v2.csv\")  # Courses Data\n",
    "enrollments_df = pd.read_csv(\"interactions.csv\")  # Enrollments Data\n",
    "interactions_df = pd.read_csv(\"reviews.csv\")  # Interactions Data\n",
    "logs_df = pd.read_csv(\"active_logs.csv\")  # Active Logs Data\n",
    "\n",
    "# Convert DataFrames to dictionaries and insert into MongoDB collections\n",
    "user_collection.insert_many(users_df.to_dict(orient='records'))\n",
    "course_collection.insert_many(courses_df.to_dict(orient='records'))\n",
    "enrollment_collection.insert_many(enrollments_df.to_dict(orient='records'))\n",
    "interaction_collection.insert_many(interactions_df.to_dict(orient='records'))\n",
    "active_log_collection.insert_many(logs_df.to_dict(orient='records'))\n",
    "\n",
    "print(\"CSV files loaded into MongoDB successfully!\")"
   ]
  },
  {
   "cell_type": "code",
   "execution_count": 7,
   "id": "e4eccd47",
   "metadata": {},
   "outputs": [
    {
     "name": "stdout",
     "output_type": "stream",
     "text": [
      "Sample from Users Data:\n",
      "{'_id': ObjectId('682694ba98876ebf53461191'), 'user_id': 1, 'name': 'Dr. Amanda Ellis', 'age': 30, 'gender': 'Male', 'education_level': 'Master’s', 'preferred_subjects': \"['Programming', 'Science', 'Math']\", 'signup_date': '13-04-2023', 'last_active_date': '21-11-2024'}\n",
      "\n",
      "Sample from Courses Data:\n",
      "{'_id': ObjectId('682694ba98876ebf53461579'), 'course_id': 'C2', 'title': 'Course 2', 'category': 'Math', 'difficulty': 'Intermediate', 'rating': 4.8}\n",
      "{'_id': ObjectId('682694ba98876ebf5346157a'), 'course_id': 'C5', 'title': 'Course 5', 'category': 'Data Science', 'difficulty': 'Advanced', 'rating': 3.5}\n",
      "\n",
      "Sample from Enrollments Data:\n",
      "{'_id': ObjectId('682694ba98876ebf53461768'), 'user_id': 'U846', 'course_id': 'C85', 'interaction_type': 'Completed', 'rating_given': 1.4}\n",
      "{'_id': ObjectId('682694ba98876ebf53461769'), 'user_id': 'U774', 'course_id': 'C415', 'interaction_type': 'Completed', 'rating_given': 4.3}\n",
      "{'_id': ObjectId('682694ba98876ebf5346176a'), 'user_id': 'U430', 'course_id': 'C350', 'interaction_type': 'Viewed', 'rating_given': 2.5}\n",
      "\n",
      "Sample from Interactions Data:\n",
      "{'_id': ObjectId('682694ba98876ebf53462af0'), 'user_id': 'U946', 'course_id': 'C328', 'review': 'Could be better.', 'rating': 4.8}\n",
      "{'_id': ObjectId('682694ba98876ebf53462af1'), 'user_id': 'U64', 'course_id': 'C492', 'review': 'Could be better.', 'rating': 1.4}\n",
      "\n",
      "Sample from Active Logs Data:\n",
      "{'_id': ObjectId('682694ba98876ebf534632c0'), 'timestamp': '2025-03-10 11:45:00', 'user_id': 'U157', 'action': 'Complete', 'course_id': 'C77', 'system_response': 'Redirect'}\n"
     ]
    }
   ],
   "source": [
    "# Sample 5 records from each collection\n",
    "users_sample = list(user_collection.find().limit(1))\n",
    "courses_sample = list(course_collection.find().limit(2))\n",
    "enrollments_sample = list(enrollment_collection.find().limit(3))\n",
    "interactions_sample = list(interaction_collection.find().limit(2))\n",
    "logs_sample = list(active_log_collection.find().limit(1))\n",
    "\n",
    "# Print the samples\n",
    "print(\"Sample from Users Data:\")\n",
    "for user in users_sample:\n",
    "    print(user)\n",
    "\n",
    "print(\"\\nSample from Courses Data:\")\n",
    "for course in courses_sample:\n",
    "    print(course)\n",
    "\n",
    "print(\"\\nSample from Enrollments Data:\")\n",
    "for enrollment in enrollments_sample:\n",
    "    print(enrollment)\n",
    "\n",
    "print(\"\\nSample from Interactions Data:\")\n",
    "for interaction in interactions_sample:\n",
    "    print(interaction)\n",
    "\n",
    "print(\"\\nSample from Active Logs Data:\")\n",
    "for log in logs_sample:\n",
    "    print(log)"
   ]
  },
  {
   "cell_type": "code",
   "execution_count": 8,
   "id": "91e39752",
   "metadata": {},
   "outputs": [
    {
     "name": "stdout",
     "output_type": "stream",
     "text": [
      "✅ Admins inserted successfully!\n"
     ]
    }
   ],
   "source": [
    "import threading\n",
    "from flask import Flask, request, jsonify\n",
    "from pymongo import MongoClient\n",
    "import time\n",
    "import requests\n",
    "from werkzeug.serving import run_simple\n",
    "\n",
    "app = Flask(__name__)\n",
    "\n",
    "# MongoDB connection\n",
    "client = MongoClient('mongodb://localhost:27017')\n",
    "db = client['elearning_platform']\n",
    "user_collection = db['users']  # Original user data\n",
    "user_12_collection = db['user_12']  # New collection for login credentials\n",
    "\n",
    "# Error handler for undefined routes\n",
    "@app.errorhandler(404)\n",
    "def not_found(error):\n",
    "    return jsonify({\"error\": \"Route not found\"}), 404\n",
    "\n",
    "# Health check route\n",
    "@app.route('/health', methods=['GET'])\n",
    "def health_check():\n",
    "    return jsonify({\"status\": \"running\"}), 200\n",
    "\n",
    "# User registration route\n",
    "@app.route('/user/register', methods=['POST'])\n",
    "def register_user():\n",
    "    user_data = request.json\n",
    "    user_id = user_data.get(\"user_id\")\n",
    "    \n",
    "    # Check if user_id exists in users collection\n",
    "    existing_user = user_collection.find_one({\"user_id\": user_id})\n",
    "    if not existing_user:\n",
    "        return jsonify({\"error\": \"User ID not found in system\"}), 404\n",
    "    \n",
    "    # Check if already registered\n",
    "    if user_12_collection.find_one({\"user_id\": user_id}):\n",
    "        return jsonify({\"error\": \"User already registered\"}), 400\n",
    "    \n",
    "    # Validate input fields\n",
    "    if not all(k in user_data for k in [\"username\", \"password\", \"email\", \"contact\"]):\n",
    "        return jsonify({\"error\": \"Missing username, password, email, or contact\"}), 400\n",
    "    \n",
    "    # Store user login data\n",
    "    new_user = {\n",
    "        \"user_id\": user_id,\n",
    "        \"username\": user_data[\"username\"],\n",
    "        \"password\": user_data[\"password\"],\n",
    "        \"email\": user_data[\"email\"],\n",
    "        \"contact\": user_data[\"contact\"],\n",
    "        \"name\": existing_user[\"name\"],  # Keep name from users collection\n",
    "        \"age\": existing_user[\"age\"],\n",
    "        \"gender\": existing_user[\"gender\"],\n",
    "        \"education_level\": existing_user[\"education_level\"],\n",
    "        \"preferred_subjects\": existing_user[\"preferred_subjects\"]\n",
    "    }\n",
    "    user_12_collection.insert_one(new_user)\n",
    "    \n",
    "    return f\"User registered successfully with user_id: {user_id}\", 201\n",
    "\n",
    "# User login route\n",
    "@app.route('/user/login', methods=['POST'])\n",
    "def login_user():\n",
    "    login_data = request.json\n",
    "    \n",
    "    # Validate input\n",
    "    if not all(k in login_data for k in [\"username\", \"password\"]):\n",
    "        return jsonify({\"error\": \"Username and password required\"}), 400\n",
    "    \n",
    "    # Find user in user_11 collection\n",
    "    user = user_12_collection.find_one({\"username\": login_data[\"username\"]})\n",
    "    if not user or user[\"password\"] != login_data[\"password\"]:\n",
    "        return jsonify({\"error\": \"Invalid username or password\"}), 401\n",
    "    \n",
    "    return jsonify({\"message\": \"Login successful\", \"user_id\": user[\"user_id\"], \"name\": user[\"name\"]}), 200\n",
    "\n",
    "@app.route('/user/<user_id>', methods=['GET'])\n",
    "def get_user(user_id):\n",
    "    try:\n",
    "        user_id = int(user_id)  # Convert user_id to integer\n",
    "    except ValueError:\n",
    "        return jsonify({\"error\": \"Invalid user ID format\"}), 400  # Handle non-integer values\n",
    "    \n",
    "    user = user_12_collection.find_one({\"user_id\": user_id})\n",
    "    if not user:\n",
    "        return jsonify({\"error\": \"User not found\"}), 404\n",
    "    \n",
    "    return jsonify({\n",
    "        \"user_id\": user[\"user_id\"],\n",
    "        \"name\": user[\"name\"],\n",
    "        \"age\": user[\"age\"],\n",
    "        \"gender\": user[\"gender\"],\n",
    "        \"education_level\": user[\"education_level\"],\n",
    "        \"username\": user[\"username\"],\n",
    "        \"email\": user[\"email\"],\n",
    "        \"contact\": user[\"contact\"],\n",
    "        \"preferred_subjects\": user[\"preferred_subjects\"]\n",
    "    }), 200\n",
    "\n",
    "admin_collection = db['admins']\n",
    "\n",
    "# Predefined Admin Users (Insert only if not already present)\n",
    "predefined_admins = [\n",
    "    {\"username\": \"admin1\", \"password\": \"adminpass1\", \"email\": \"admin1@example.com\", \"name\": \"Admin One\"},\n",
    "    {\"username\": \"admin2\", \"password\": \"adminpass2\", \"email\": \"admin2@example.com\", \"name\": \"Admin Two\"},\n",
    "    {\"username\": \"admin3\", \"password\": \"adminpass3\", \"email\": \"admin3@example.com\", \"name\": \"Admin Three\"},\n",
    "    {\"username\": \"admin4\", \"password\": \"adminpass4\", \"email\": \"admin4@example.com\", \"name\": \"Admin Four\"}\n",
    "]\n",
    "\n",
    "# Insert admins only if the collection is empty\n",
    "if admin_collection.count_documents({}) == 0:\n",
    "    admin_collection.insert_many(predefined_admins)\n",
    "    print(\"✅ Admins inserted successfully!\")\n",
    "\n",
    "# Admin Login Route\n",
    "@app.route('/admin/login', methods=['POST'])\n",
    "def admin_login():\n",
    "    data = request.json\n",
    "    admin = admin_collection.find_one({\"username\": data[\"username\"]})\n",
    "    \n",
    "    if not admin or admin[\"password\"] != data[\"password\"]:\n",
    "        return jsonify({\"error\": \"Invalid username or password\"}), 401\n",
    "    \n",
    "    return jsonify({\"message\": \"Login successful\", \"admin\": {\n",
    "        \"username\": admin[\"username\"],\n",
    "        \"name\": admin[\"name\"],\n",
    "        \"email\": admin[\"email\"]\n",
    "    }}), 200\n",
    "\n",
    "# Get Admin Details\n",
    "@app.route('/admin/<username>', methods=['GET'])\n",
    "def get_admin(username):\n",
    "    admin = admin_collection.find_one({\"username\": username})\n",
    "    if not admin:\n",
    "        return jsonify({\"error\": \"Admin not found\"}), 404\n",
    "    \n",
    "    return jsonify({\n",
    "        \"username\": admin[\"username\"],\n",
    "        \"name\": admin[\"name\"],\n",
    "        \"email\": admin[\"email\"]\n",
    "    }), 200\n"
   ]
  },
  {
   "cell_type": "code",
   "execution_count": 9,
   "id": "5ff734dd",
   "metadata": {},
   "outputs": [],
   "source": [
    "import pickle\n",
    "\n",
    "# ---------- Load the KNN model and course matrix ----------\n",
    "with open(\"knn_model_500.pkl\", \"rb\") as f:\n",
    "    knn_model = pickle.load(f)\n",
    "\n",
    "with open(\"trained_course_columns.pkl\", \"rb\") as f:\n",
    "    trained_course_columns = pickle.load(f)\n",
    "\n",
    "user_course_matrix = pd.read_csv(\"user_course_matrix.csv\", index_col=0)\n",
    "user_course_matrix = user_course_matrix.reindex(columns=trained_course_columns, fill_value=0)\n",
    "\n",
    "# ---------- KNN Recommendation Route ----------\n",
    "@app.route('/recommend/<user_id>', methods=['GET'])\n",
    "def recommend_courses(user_id):\n",
    "    if user_id not in user_course_matrix.index:\n",
    "        return jsonify({\"error\": f\"User ID {user_id} not found in course matrix\"}), 404\n",
    "\n",
    "    try:\n",
    "        user_vector = user_course_matrix.loc[user_id].values.reshape(1, -1)\n",
    "        distances, indices = knn_model.kneighbors(user_vector, n_neighbors=6)\n",
    "        similar_user_ids = user_course_matrix.iloc[indices.flatten()[1:]].index\n",
    "\n",
    "        user_courses = set(user_course_matrix.loc[user_id][user_course_matrix.loc[user_id] > 0].index)\n",
    "        recommended_courses = set()\n",
    "\n",
    "        for sim_user_id in similar_user_ids:\n",
    "            sim_user_courses = user_course_matrix.loc[sim_user_id]\n",
    "            for course in sim_user_courses[sim_user_courses > 0].index:\n",
    "                if course not in user_courses:\n",
    "                    recommended_courses.add(course)\n",
    "\n",
    "        recommendations = list(recommended_courses)[:5]\n",
    "        if not recommendations:\n",
    "            return jsonify({\"message\": \"No new courses to recommend.\"}), 200\n",
    "\n",
    "        return jsonify({\n",
    "            \"user_id\": user_id,\n",
    "            \"recommended_courses\": recommendations\n",
    "        }), 200\n",
    "\n",
    "    except Exception as e:\n",
    "        return jsonify({\"error\": str(e)}), 500"
   ]
  },
  {
   "cell_type": "code",
   "execution_count": 10,
   "id": "ba7855c1",
   "metadata": {},
   "outputs": [],
   "source": [
    "from flask import Flask, jsonify\n",
    "import pandas as pd\n",
    "from sklearn.neighbors import NearestNeighbors\n",
    "from sklearn.feature_extraction.text import TfidfVectorizer\n",
    "from sklearn.metrics.pairwise import cosine_similarity\n",
    "from scipy.sparse import csr_matrix\n",
    "\n",
    "# ----------------- Load Datasets -----------------\n",
    "user_course_matrix = pd.read_csv(\"user_course_matrix.csv\", index_col=0)\n",
    "courses_df = pd.read_csv(\"courses_v2.csv\")\n",
    "interactions_df = pd.read_csv(\"interactions.csv\")\n",
    "\n",
    "# ----------------- Train KNN Model -----------------\n",
    "user_course_sparse = csr_matrix(user_course_matrix.values)\n",
    "knn_model = NearestNeighbors(metric=\"cosine\", algorithm=\"brute\", n_neighbors=5)\n",
    "knn_model.fit(user_course_sparse)\n",
    "\n",
    "# ----------------- Content-Based Filtering -----------------\n",
    "courses_df[\"combined_features\"] = (\n",
    "    courses_df[\"title\"].astype(str) + \" \" +\n",
    "    courses_df[\"category\"].astype(str) + \" \" +\n",
    "    courses_df[\"difficulty\"].astype(str)\n",
    ")\n",
    "\n",
    "tfidf = TfidfVectorizer(stop_words=\"english\")\n",
    "tfidf_matrix = tfidf.fit_transform(courses_df[\"combined_features\"])\n",
    "cosine_sim = cosine_similarity(tfidf_matrix, tfidf_matrix)\n",
    "\n",
    "# ----------------- Hybrid Recommendation Endpoint -----------------\n",
    "@app.route('/hybrid_recommend/<user_id>', methods=['GET'])\n",
    "def hybrid_recommendations(user_id, num_recommendations=1):\n",
    "    if user_id not in user_course_matrix.index:\n",
    "        return jsonify({\"error\": \"User not found!\"}), 404\n",
    "    \n",
    "    try:\n",
    "        # -------- User-based Filtering --------\n",
    "        user_index = user_course_matrix.index.get_loc(user_id)\n",
    "        distances, indices = knn_model.kneighbors(user_course_sparse[user_index], n_neighbors=6)\n",
    "        similar_users = user_course_matrix.iloc[indices.flatten()[1:]]\n",
    "        user_based_recommendations = similar_users.mean().sort_values(ascending=False).head(num_recommendations)\n",
    "        \n",
    "        # -------- Content-based Filtering --------\n",
    "        user_courses = interactions_df[interactions_df[\"user_id\"] == user_id][\"course_id\"].values\n",
    "        content_recommendations = []\n",
    "\n",
    "        for course_id in user_courses:\n",
    "            if course_id in courses_df[\"course_id\"].values:\n",
    "                course_index = courses_df[courses_df[\"course_id\"] == course_id].index[0]\n",
    "                sim_scores = list(enumerate(cosine_sim[course_index]))\n",
    "                sim_scores = sorted(sim_scores, key=lambda x: x[1], reverse=True)[1:num_recommendations+1]\n",
    "                recommended_indices = [i[0] for i in sim_scores]\n",
    "                content_recommendations.extend(courses_df.iloc[recommended_indices][\"course_id\"].values)\n",
    "        \n",
    "        # -------- Combine & Rank --------\n",
    "        final_recommendations = list(set(user_based_recommendations.index).union(set(content_recommendations)))\n",
    "        result = courses_df[courses_df[\"course_id\"].isin(final_recommendations)][\n",
    "            [\"course_id\", \"title\", \"category\", \"difficulty\"]\n",
    "        ]\n",
    "\n",
    "        return jsonify({\n",
    "            \"user_id\": user_id,\n",
    "            \"recommended_courses\": result.to_dict(orient=\"records\")\n",
    "        }), 200\n",
    "\n",
    "    except Exception as e:\n",
    "        return jsonify({\"error\": str(e)}), 500\n"
   ]
  },
  {
   "cell_type": "code",
   "execution_count": 11,
   "id": "d56dfaca",
   "metadata": {},
   "outputs": [],
   "source": [
    "# Dummy database (in-memory for now)\n",
    "enrollments = []\n",
    "\n",
    "# Route to enroll\n",
    "@app.route('/enroll', methods=['POST'])\n",
    "def enroll_course():\n",
    "    data = request.get_json()\n",
    "\n",
    "    user_id = data.get('user_id')\n",
    "    course_id = data.get('course_id')\n",
    "    title = data.get('title')\n",
    "    price = data.get('price')\n",
    "\n",
    "    # Validate input\n",
    "    if not all([user_id, course_id, title, price]):\n",
    "        return jsonify({'status': 'fail', 'message': 'Missing fields'}), 400\n",
    "\n",
    "    # Check if user already enrolled\n",
    "    for enroll in enrollments:\n",
    "        if enroll['user_id'] == user_id and enroll['course_id'] == course_id:\n",
    "            return jsonify({'status': 'fail', 'message': 'Already enrolled'}), 400\n",
    "\n",
    "    # Otherwise, enroll the user\n",
    "    enrollments.append({\n",
    "        'user_id': user_id,\n",
    "        'course_id': course_id,\n",
    "        'title': title,\n",
    "        'price': price\n",
    "    })\n",
    "\n",
    "    return jsonify({'status': 'success', 'message': 'Enrolled successfully'}), 200"
   ]
  },
  {
   "cell_type": "code",
   "execution_count": 12,
   "id": "6c6ffdb7",
   "metadata": {},
   "outputs": [],
   "source": [
    "from flask import Flask, jsonify, request\n",
    "import pandas as pd\n",
    "\n",
    "# Load the courses data\n",
    "courses_df = pd.read_csv(\"courses_v2.csv\")\n",
    "\n",
    "# Add a filter_courses endpoint\n",
    "@app.route('/filter_courses', methods=['GET'])\n",
    "def filter_courses():\n",
    "    try:\n",
    "        # Get the filter parameters from the query string\n",
    "        course_id = request.args.get(\"course_id\", default=\"\", type=str)\n",
    "        title = request.args.get(\"title\", default=\"\", type=str)\n",
    "        category = request.args.get(\"category\", default=\"\", type=str)\n",
    "        difficulty = request.args.get(\"difficulty\", default=None, type=str)\n",
    "        min_rating = request.args.get(\"min_rating\", default=1, type=int)\n",
    "\n",
    "        # Apply filters based on the input parameters\n",
    "        filtered_courses = courses_df\n",
    "\n",
    "        if course_id:\n",
    "            filtered_courses = filtered_courses[filtered_courses[\"course_id\"].str.contains(course_id, case=False)]\n",
    "        \n",
    "        if title:\n",
    "            filtered_courses = filtered_courses[filtered_courses[\"title\"].str.contains(title, case=False)]\n",
    "        \n",
    "        if category:\n",
    "            filtered_courses = filtered_courses[filtered_courses[\"category\"].str.contains(category, case=False)]\n",
    "        \n",
    "        if difficulty:\n",
    "            filtered_courses = filtered_courses[filtered_courses[\"difficulty\"] == difficulty]\n",
    "        \n",
    "        filtered_courses = filtered_courses[filtered_courses[\"rating\"] >= min_rating]\n",
    "\n",
    "        # Return the filtered courses as JSON\n",
    "        filtered_courses = filtered_courses[[\"course_id\", \"title\", \"category\", \"difficulty\", \"rating\"]]\n",
    "        return jsonify({\"courses\": filtered_courses.to_dict(orient=\"records\")}), 200\n",
    "\n",
    "    except Exception as e:\n",
    "        return jsonify({\"error\": str(e)}), 500"
   ]
  },
  {
   "cell_type": "code",
   "execution_count": 13,
   "id": "006425c8",
   "metadata": {},
   "outputs": [],
   "source": [
    "from flask import Flask, jsonify\n",
    "import pandas as pd\n",
    "from sklearn.feature_extraction.text import TfidfVectorizer\n",
    "from sklearn.metrics.pairwise import cosine_similarity\n",
    "\n",
    "# ----------------- Load Course Dataset -----------------\n",
    "courses_df = pd.read_csv(\"courses_v2.csv\")  # Must contain: course_id, title, category, difficulty\n",
    "\n",
    "# ----------------- Content-Based Course Similarity -----------------\n",
    "courses_df[\"combined_features\"] = (\n",
    "    courses_df[\"title\"].astype(str) + \" \" +\n",
    "    courses_df[\"category\"].astype(str) + \" \" +\n",
    "    courses_df[\"difficulty\"].astype(str)\n",
    ")\n",
    "\n",
    "tfidf = TfidfVectorizer(stop_words=\"english\")\n",
    "tfidf_matrix = tfidf.fit_transform(courses_df[\"combined_features\"])\n",
    "cosine_sim = cosine_similarity(tfidf_matrix, tfidf_matrix)\n",
    "\n",
    "# ----------------- Course Recommendation Endpoint -----------------\n",
    "@app.route('/similar_courses/<course_id>', methods=['GET'])\n",
    "def recommend_similar_courses(course_id, num_recommendations=5):\n",
    "    if course_id not in courses_df[\"course_id\"].values:\n",
    "        return jsonify({\"error\": \"Course not found!\"}), 404\n",
    "\n",
    "    try:\n",
    "        course_index = courses_df[courses_df[\"course_id\"] == course_id].index[0]\n",
    "        sim_scores = list(enumerate(cosine_sim[course_index]))\n",
    "        sim_scores = sorted(sim_scores, key=lambda x: x[1], reverse=True)[1:num_recommendations+1]\n",
    "        recommended_indices = [i[0] for i in sim_scores]\n",
    "        \n",
    "        recommended_courses = courses_df.iloc[recommended_indices][[\"course_id\", \"title\", \"category\", \"difficulty\"]]\n",
    "        \n",
    "        return jsonify({\n",
    "            \"course_id\": course_id,\n",
    "            \"recommended_courses\": recommended_courses.to_dict(orient=\"records\")\n",
    "        }), 200\n",
    "\n",
    "    except Exception as e:\n",
    "        return jsonify({\"error\": str(e)}), 500"
   ]
  },
  {
   "cell_type": "code",
   "execution_count": 14,
   "id": "6bac0e2a",
   "metadata": {},
   "outputs": [
    {
     "name": "stderr",
     "output_type": "stream",
     "text": [
      "WARNING: This is a development server. Do not use it in a production deployment. Use a production WSGI server instead.\n",
      " * Running on http://localhost:5000\n",
      "Press CTRL+C to quit\n",
      "127.0.0.1 - - [15/May/2025 20:28:34] \"GET /health HTTP/1.1\" 200 -\n"
     ]
    },
    {
     "name": "stdout",
     "output_type": "stream",
     "text": [
      "Flask app is running: {'status': 'running'}\n"
     ]
    }
   ],
   "source": [
    "# Flask app runner function\n",
    "def run_app():\n",
    "    run_simple('localhost', 5000, app, use_reloader=False, use_debugger=True)\n",
    "\n",
    "# Start Flask in a separate thread\n",
    "thread = threading.Thread(target=run_app)\n",
    "thread.start()\n",
    "\n",
    "# Wait for the server to start\n",
    "time.sleep(2)\n",
    "\n",
    "# Check server health\n",
    "try:\n",
    "    response = requests.get('http://localhost:5000/health')\n",
    "    if response.status_code == 200:\n",
    "        print(\"Flask app is running:\", response.json())\n",
    "    else:\n",
    "        print(\"Failed to start the Flask app\")\n",
    "except Exception as e:\n",
    "    print(f\"Error: {e}\")"
   ]
  },
  {
   "cell_type": "code",
   "execution_count": 15,
   "id": "1b15f66d",
   "metadata": {
    "scrolled": true
   },
   "outputs": [
    {
     "name": "stderr",
     "output_type": "stream",
     "text": [
      "127.0.0.1 - - [15/May/2025 20:28:36] \"POST /user/register HTTP/1.1\" 201 -\n"
     ]
    },
    {
     "name": "stdout",
     "output_type": "stream",
     "text": [
      "User registered successfully with user_id: 5\n"
     ]
    }
   ],
   "source": [
    "import requests\n",
    "\n",
    "# Define the URL for the register endpoint\n",
    "url = \"http://localhost:5000/user/register\"\n",
    "\n",
    "# Data to be sent in the request body (user details)\n",
    "data = {\n",
    "    \"user_id\": 5,  # Existing user_id from your CSV data\n",
    "    \"username\": \"panjsje\",\n",
    "    \"password\": \"ujord123\",\n",
    "    \"email\": \"jjnedmoe@example.com\",\n",
    "    \"contact\": \"9076543260\"\n",
    "}\n",
    "\n",
    "# Send a POST request to register the user\n",
    "response = requests.post(url, json=data)\n",
    "\n",
    "# Check the response from the server\n",
    "if response.status_code == 200:\n",
    "    print(\"User registered successfully:\")\n",
    "    print(response.json())\n",
    "else:\n",
    "    print(response.text)"
   ]
  },
  {
   "cell_type": "code",
   "execution_count": 16,
   "id": "0067511b",
   "metadata": {},
   "outputs": [
    {
     "name": "stderr",
     "output_type": "stream",
     "text": [
      "127.0.0.1 - - [15/May/2025 20:28:38] \"POST /user/login HTTP/1.1\" 200 -\n"
     ]
    },
    {
     "name": "stdout",
     "output_type": "stream",
     "text": [
      "✅ Login successful!\n",
      "{'message': 'Login successful', 'name': 'Robin Schneider', 'user_id': 5}\n"
     ]
    }
   ],
   "source": [
    "import requests\n",
    "\n",
    "# Define the login endpoint\n",
    "url = \"http://localhost:5000/user/login\"\n",
    "\n",
    "# Sample login data\n",
    "login_data = {\n",
    "    \"username\": \"panjsje\",  # Replace with a valid username in MongoDB\n",
    "    \"password\": \"ujord123\"  # Replace with the correct password\n",
    "}\n",
    "\n",
    "# Send a POST request to the login endpoint\n",
    "response = requests.post(url, json=login_data)\n",
    "\n",
    "# Check response\n",
    "if response.status_code == 200:\n",
    "    print(\"✅ Login successful!\")\n",
    "    print(response.json())  # Print user details\n",
    "elif response.status_code == 401:\n",
    "    print(\"❌ Invalid username or password!\")\n",
    "    print(response.json())\n",
    "else:\n",
    "    print(f\"⚠️ Unexpected Error (Status Code: {response.status_code})\")\n",
    "    print(response.text)"
   ]
  },
  {
   "cell_type": "code",
   "execution_count": 17,
   "id": "7f708738",
   "metadata": {},
   "outputs": [
    {
     "name": "stderr",
     "output_type": "stream",
     "text": [
      "127.0.0.1 - - [15/May/2025 20:28:40] \"GET /user/5 HTTP/1.1\" 200 -\n"
     ]
    },
    {
     "name": "stdout",
     "output_type": "stream",
     "text": [
      "✅ User data retrieved successfully!\n",
      "{'age': 37, 'contact': '9076543260', 'education_level': 'Bachelor’s', 'email': 'jjnedmoe@example.com', 'gender': 'Other', 'name': 'Robin Schneider', 'preferred_subjects': \"['History']\", 'user_id': 5, 'username': 'panjsje'}\n"
     ]
    }
   ],
   "source": [
    "import requests\n",
    "\n",
    "# Define the API endpoint (change '4' to a valid user_id in MongoDB)\n",
    "user_id = \"5\"  # Replace with a valid user ID from the `user_11` collection\n",
    "url = f\"http://localhost:5000/user/{user_id}\"\n",
    "\n",
    "# Send a GET request to retrieve user data\n",
    "response = requests.get(url)\n",
    "\n",
    "# Check response\n",
    "if response.status_code == 200:\n",
    "    print(\"✅ User data retrieved successfully!\")\n",
    "    print(response.json())  # Print user details\n",
    "elif response.status_code == 404:\n",
    "    print(\"❌ User not found!\")\n",
    "    print(response.json())\n",
    "else:\n",
    "    print(f\"⚠️ Unexpected Error (Status Code: {response.status_code})\")\n",
    "    print(response.text)"
   ]
  },
  {
   "cell_type": "code",
   "execution_count": 18,
   "id": "f44c5073",
   "metadata": {},
   "outputs": [
    {
     "name": "stderr",
     "output_type": "stream",
     "text": [
      "127.0.0.1 - - [15/May/2025 20:28:42] \"POST /admin/login HTTP/1.1\" 200 -\n"
     ]
    },
    {
     "name": "stdout",
     "output_type": "stream",
     "text": [
      "✅ Admin Login Successful!\n",
      "{'admin': {'email': 'admin1@example.com', 'name': 'Admin One', 'username': 'admin1'}, 'message': 'Login successful'}\n"
     ]
    }
   ],
   "source": [
    "import requests\n",
    "\n",
    "# API endpoint for admin login\n",
    "url = \"http://localhost:5000/admin/login\"\n",
    "\n",
    "# Sample admin credentials (Update if necessary)\n",
    "admin_data = {\n",
    "    \"username\": \"admin1\",\n",
    "    \"password\": \"adminpass1\"\n",
    "}\n",
    "\n",
    "# Sending a POST request for login\n",
    "response = requests.post(url, json=admin_data)\n",
    "\n",
    "# Checking the response\n",
    "if response.status_code == 200:\n",
    "    print(\"✅ Admin Login Successful!\")\n",
    "    print(response.json())  # Prints the admin details\n",
    "elif response.status_code == 401:\n",
    "    print(\"❌ Invalid Credentials!\")\n",
    "    print(response.json())  # Prints error message\n",
    "else:\n",
    "    print(f\"⚠️ Unexpected Error (Status Code: {response.status_code})\")\n",
    "    print(response.text)"
   ]
  },
  {
   "cell_type": "code",
   "execution_count": 19,
   "id": "954caee2",
   "metadata": {},
   "outputs": [
    {
     "name": "stderr",
     "output_type": "stream",
     "text": [
      "127.0.0.1 - - [15/May/2025 20:28:44] \"GET /hybrid_recommend/U1 HTTP/1.1\" 200 -\n"
     ]
    },
    {
     "name": "stdout",
     "output_type": "stream",
     "text": [
      "Recommendations for User U1:\n",
      "\n",
      "- Course 2 (Math, Intermediate) [ID: C2]\n",
      "- Course 6 (Programming, Advanced) [ID: C6]\n",
      "- Course 21 (Cloud Computing, Intermediate) [ID: C21]\n",
      "- Course 291 (Cloud Computing, Intermediate) [ID: C291]\n"
     ]
    }
   ],
   "source": [
    "import requests\n",
    "\n",
    "# URL of the Flask app endpoint (change port if needed)\n",
    "BASE_URL = \"http://localhost:5000\"\n",
    "USER_ID = \"U1\"  # Change this to any valid user_id from your dataset\n",
    "\n",
    "# Endpoint for hybrid recommendation\n",
    "response = requests.get(f\"{BASE_URL}/hybrid_recommend/{USER_ID}\")\n",
    "\n",
    "if response.status_code == 200:\n",
    "    data = response.json()\n",
    "    print(f\"Recommendations for User {USER_ID}:\\n\")\n",
    "    for course in data['recommended_courses']:\n",
    "        print(f\"- {course['title']} ({course['category']}, {course['difficulty']}) [ID: {course['course_id']}]\")\n",
    "else:\n",
    "    print(f\"Error {response.status_code}: {response.json().get('error')}\")\n"
   ]
  },
  {
   "cell_type": "code",
   "execution_count": 20,
   "id": "7c64e12c",
   "metadata": {},
   "outputs": [
    {
     "name": "stderr",
     "output_type": "stream",
     "text": [
      "127.0.0.1 - - [15/May/2025 20:28:46] \"GET /hybrid_recommend/U15 HTTP/1.1\" 200 -\n"
     ]
    },
    {
     "name": "stdout",
     "output_type": "stream",
     "text": [
      "\n",
      "User ID: U15\n",
      "Response: {'recommended_courses': [{'category': 'Data Science', 'course_id': 'C7', 'difficulty': 'Intermediate', 'title': 'Course 7'}, {'category': 'AI', 'course_id': 'C8', 'difficulty': 'Advanced', 'title': 'Course 8'}, {'category': 'Data Science', 'course_id': 'C83', 'difficulty': 'Intermediate', 'title': 'Course 83'}], 'user_id': 'U15'}\n"
     ]
    },
    {
     "name": "stderr",
     "output_type": "stream",
     "text": [
      "127.0.0.1 - - [15/May/2025 20:28:48] \"GET /hybrid_recommend/U20 HTTP/1.1\" 200 -\n"
     ]
    },
    {
     "name": "stdout",
     "output_type": "stream",
     "text": [
      "\n",
      "User ID: U20\n",
      "Response: {'recommended_courses': [{'category': 'Programming', 'course_id': 'C6', 'difficulty': 'Advanced', 'title': 'Course 6'}, {'category': 'AI', 'course_id': 'C8', 'difficulty': 'Advanced', 'title': 'Course 8'}, {'category': 'Cybersecurity', 'course_id': 'C9', 'difficulty': 'Intermediate', 'title': 'Course 9'}, {'category': 'AI', 'course_id': 'C257', 'difficulty': 'Beginner', 'title': 'Course 257'}], 'user_id': 'U20'}\n"
     ]
    },
    {
     "name": "stderr",
     "output_type": "stream",
     "text": [
      "127.0.0.1 - - [15/May/2025 20:28:51] \"GET /hybrid_recommend/U3 HTTP/1.1\" 200 -\n"
     ]
    },
    {
     "name": "stdout",
     "output_type": "stream",
     "text": [
      "\n",
      "User ID: U3\n",
      "Response: {'recommended_courses': [{'category': 'Math', 'course_id': 'C2', 'difficulty': 'Intermediate', 'title': 'Course 2'}, {'category': 'Programming', 'course_id': 'C6', 'difficulty': 'Advanced', 'title': 'Course 6'}, {'category': 'AI', 'course_id': 'C8', 'difficulty': 'Advanced', 'title': 'Course 8'}, {'category': 'Cybersecurity', 'course_id': 'C9', 'difficulty': 'Intermediate', 'title': 'Course 9'}, {'category': 'Cybersecurity', 'course_id': 'C299', 'difficulty': 'Advanced', 'title': 'Course 299'}], 'user_id': 'U3'}\n"
     ]
    },
    {
     "name": "stderr",
     "output_type": "stream",
     "text": [
      "127.0.0.1 - - [15/May/2025 20:28:53] \"GET /hybrid_recommend/U92 HTTP/1.1\" 200 -\n"
     ]
    },
    {
     "name": "stdout",
     "output_type": "stream",
     "text": [
      "\n",
      "User ID: U92\n",
      "Response: {'recommended_courses': [{'category': 'Math', 'course_id': 'C2', 'difficulty': 'Intermediate', 'title': 'Course 2'}, {'category': 'Programming', 'course_id': 'C6', 'difficulty': 'Advanced', 'title': 'Course 6'}, {'category': 'Data Science', 'course_id': 'C7', 'difficulty': 'Intermediate', 'title': 'Course 7'}, {'category': 'AI', 'course_id': 'C8', 'difficulty': 'Advanced', 'title': 'Course 8'}, {'category': 'Programming', 'course_id': 'C68', 'difficulty': 'Beginner', 'title': 'Course 68'}], 'user_id': 'U92'}\n"
     ]
    }
   ],
   "source": [
    "for uid in [\"U15\", \"U20\", \"U3\", \"U92\"]:  # Add valid/invalid user_ids\n",
    "    response = requests.get(f\"{BASE_URL}/hybrid_recommend/{uid}\")\n",
    "    print(f\"\\nUser ID: {uid}\")\n",
    "    print(\"Response:\", response.json())"
   ]
  },
  {
   "cell_type": "code",
   "execution_count": 21,
   "id": "d5a87645",
   "metadata": {},
   "outputs": [
    {
     "name": "stderr",
     "output_type": "stream",
     "text": [
      "127.0.0.1 - - [15/May/2025 20:28:55] \"GET /similar_courses/C15 HTTP/1.1\" 200 -\n"
     ]
    },
    {
     "name": "stdout",
     "output_type": "stream",
     "text": [
      "Courses similar to 'C15':\n",
      "\n",
      "- Course 9 (Cybersecurity, Intermediate) [ID: C9]\n",
      "- Course 16 (Cybersecurity, Intermediate) [ID: C16]\n",
      "- Course 39 (Cybersecurity, Intermediate) [ID: C39]\n",
      "- Course 71 (Cybersecurity, Intermediate) [ID: C71]\n",
      "- Course 91 (Cybersecurity, Intermediate) [ID: C91]\n"
     ]
    }
   ],
   "source": [
    "import requests\n",
    "\n",
    "BASE_URL = \"http://localhost:5000\"\n",
    "COURSE_ID = \"C15\"  # Replace with a valid course_id from your dataset\n",
    "\n",
    "response = requests.get(f\"{BASE_URL}/similar_courses/{COURSE_ID}\")\n",
    "\n",
    "if response.status_code == 200:\n",
    "    data = response.json()\n",
    "    print(f\"Courses similar to '{COURSE_ID}':\\n\")\n",
    "    for course in data[\"recommended_courses\"]:\n",
    "        print(f\"- {course['title']} ({course['category']}, {course['difficulty']}) [ID: {course['course_id']}]\")\n",
    "else:\n",
    "    print(f\"Error {response.status_code}: {response.json().get('error')}\")"
   ]
  },
  {
   "cell_type": "code",
   "execution_count": 22,
   "id": "3d3387ca",
   "metadata": {},
   "outputs": [
    {
     "name": "stderr",
     "output_type": "stream",
     "text": [
      "127.0.0.1 - - [15/May/2025 20:28:57] \"GET /similar_courses/C1 HTTP/1.1\" 404 -\n"
     ]
    },
    {
     "name": "stdout",
     "output_type": "stream",
     "text": [
      "\n",
      "Similar to C1: {'error': 'Course not found!'}\n"
     ]
    },
    {
     "name": "stderr",
     "output_type": "stream",
     "text": [
      "127.0.0.1 - - [15/May/2025 20:28:59] \"GET /similar_courses/C5 HTTP/1.1\" 200 -\n"
     ]
    },
    {
     "name": "stdout",
     "output_type": "stream",
     "text": [
      "\n",
      "Similar to C5: {'course_id': 'C5', 'recommended_courses': [{'category': 'Data Science', 'course_id': 'C7', 'difficulty': 'Intermediate', 'title': 'Course 7'}, {'category': 'Data Science', 'course_id': 'C42', 'difficulty': 'Advanced', 'title': 'Course 42'}, {'category': 'Data Science', 'course_id': 'C125', 'difficulty': 'Advanced', 'title': 'Course 125'}, {'category': 'Data Science', 'course_id': 'C126', 'difficulty': 'Advanced', 'title': 'Course 126'}, {'category': 'Data Science', 'course_id': 'C193', 'difficulty': 'Advanced', 'title': 'Course 193'}]}\n"
     ]
    },
    {
     "name": "stderr",
     "output_type": "stream",
     "text": [
      "127.0.0.1 - - [15/May/2025 20:29:01] \"GET /similar_courses/C10 HTTP/1.1\" 200 -\n"
     ]
    },
    {
     "name": "stdout",
     "output_type": "stream",
     "text": [
      "\n",
      "Similar to C10: {'course_id': 'C10', 'recommended_courses': [{'category': 'Cloud Computing', 'course_id': 'C27', 'difficulty': 'Beginner', 'title': 'Course 27'}, {'category': 'Cloud Computing', 'course_id': 'C33', 'difficulty': 'Beginner', 'title': 'Course 33'}, {'category': 'Cloud Computing', 'course_id': 'C40', 'difficulty': 'Beginner', 'title': 'Course 40'}, {'category': 'Cloud Computing', 'course_id': 'C79', 'difficulty': 'Beginner', 'title': 'Course 79'}, {'category': 'Cloud Computing', 'course_id': 'C161', 'difficulty': 'Beginner', 'title': 'Course 161'}]}\n"
     ]
    },
    {
     "name": "stderr",
     "output_type": "stream",
     "text": [
      "127.0.0.1 - - [15/May/2025 20:29:03] \"GET /similar_courses/C15 HTTP/1.1\" 200 -\n"
     ]
    },
    {
     "name": "stdout",
     "output_type": "stream",
     "text": [
      "\n",
      "Similar to C15: {'course_id': 'C15', 'recommended_courses': [{'category': 'Cybersecurity', 'course_id': 'C9', 'difficulty': 'Intermediate', 'title': 'Course 9'}, {'category': 'Cybersecurity', 'course_id': 'C16', 'difficulty': 'Intermediate', 'title': 'Course 16'}, {'category': 'Cybersecurity', 'course_id': 'C39', 'difficulty': 'Intermediate', 'title': 'Course 39'}, {'category': 'Cybersecurity', 'course_id': 'C71', 'difficulty': 'Intermediate', 'title': 'Course 71'}, {'category': 'Cybersecurity', 'course_id': 'C91', 'difficulty': 'Intermediate', 'title': 'Course 91'}]}\n"
     ]
    }
   ],
   "source": [
    "for cid in [\"C1\", \"C5\", \"C10\", \"C15\"]:\n",
    "    res = requests.get(f\"{BASE_URL}/similar_courses/{cid}\")\n",
    "    print(f\"\\nSimilar to {cid}:\", res.json())\n"
   ]
  },
  {
   "cell_type": "code",
   "execution_count": 23,
   "id": "a4bf2dc6",
   "metadata": {},
   "outputs": [
    {
     "name": "stderr",
     "output_type": "stream",
     "text": [
      "127.0.0.1 - - [15/May/2025 20:29:05] \"POST /enroll HTTP/1.1\" 200 -\n"
     ]
    },
    {
     "name": "stdout",
     "output_type": "stream",
     "text": [
      "Status Code: 200\n",
      "Response JSON: {'message': 'Enrolled successfully', 'status': 'success'}\n"
     ]
    }
   ],
   "source": [
    "import requests\n",
    "\n",
    "# API Endpoint\n",
    "url = \"http://localhost:5000/enroll\"\n",
    "\n",
    "# Test Payload\n",
    "payload = {\n",
    "    \"user_id\": \"user97\",\n",
    "    \"course_id\": \"C2\",\n",
    "    \"title\": \"Course 2\",\n",
    "    \"price\": 12.9\n",
    "}\n",
    "\n",
    "# Send POST Request\n",
    "response = requests.post(url, json=payload)\n",
    "\n",
    "# Print Response\n",
    "print(f\"Status Code: {response.status_code}\")\n",
    "print(\"Response JSON:\", response.json())"
   ]
  },
  {
   "cell_type": "code",
   "execution_count": null,
   "id": "0969ed74",
   "metadata": {},
   "outputs": [],
   "source": []
  },
  {
   "cell_type": "code",
   "execution_count": null,
   "id": "7571722b",
   "metadata": {},
   "outputs": [],
   "source": []
  },
  {
   "cell_type": "code",
   "execution_count": null,
   "id": "dd34058a",
   "metadata": {},
   "outputs": [],
   "source": []
  }
 ],
 "metadata": {
  "kernelspec": {
   "display_name": "Python [conda env:base] *",
   "language": "python",
   "name": "conda-base-py"
  },
  "language_info": {
   "codemirror_mode": {
    "name": "ipython",
    "version": 3
   },
   "file_extension": ".py",
   "mimetype": "text/x-python",
   "name": "python",
   "nbconvert_exporter": "python",
   "pygments_lexer": "ipython3",
   "version": "3.12.7"
  }
 },
 "nbformat": 4,
 "nbformat_minor": 5
}
